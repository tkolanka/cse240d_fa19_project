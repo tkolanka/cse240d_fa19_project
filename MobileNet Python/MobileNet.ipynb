{
 "cells": [
  {
   "cell_type": "code",
   "execution_count": 1,
   "metadata": {},
   "outputs": [],
   "source": [
    "import pickle\n",
    "\n",
    "with open('mobilenet_v1.pkl', 'rb') as f:\n",
    "    data = pickle.load(f)"
   ]
  },
  {
   "cell_type": "code",
   "execution_count": 3,
   "metadata": {},
   "outputs": [
    {
     "data": {
      "text/plain": [
       "['mobilenet_encoder/conv_ds_10/depthwise/batch_normalization/moving_variance:0',\n",
       " 'mobilenet_encoder/conv_ds_5/pointwise/batch_normalization/gamma:0',\n",
       " 'mobilenet_encoder/conv_1/weights:0',\n",
       " 'mobilenet_encoder/conv_ds_9/pointwise/batch_normalization/gamma:0',\n",
       " 'mobilenet_encoder/conv_ds_14/depthwise/weights:0',\n",
       " 'mobilenet_encoder/conv_ds_6/depthwise/weights:0',\n",
       " 'mobilenet_encoder/conv_ds_11/depthwise/batch_normalization/moving_variance:0',\n",
       " 'mobilenet_encoder/conv_ds_5/pointwise/weights:0',\n",
       " 'mobilenet_encoder/conv_ds_4/depthwise/weights:0',\n",
       " 'mobilenet_encoder/conv_ds_10/pointwise/weights:0',\n",
       " 'mobilenet_encoder/conv_1/batch_normalization/moving_variance:0',\n",
       " 'mobilenet_encoder/conv_ds_5/depthwise/batch_normalization/moving_variance:0',\n",
       " 'mobilenet_encoder/conv_ds_13/pointwise/weights:0',\n",
       " 'mobilenet_encoder/conv_ds_2/depthwise/weights:0',\n",
       " 'mobilenet_encoder/conv_ds_10/depthwise/weights:0',\n",
       " 'mobilenet_encoder/conv_ds_4/depthwise/batch_normalization/moving_variance:0',\n",
       " 'mobilenet_encoder/conv_ds_6/pointwise/batch_normalization/beta:0',\n",
       " 'mobilenet_encoder/conv_ds_2/pointwise/batch_normalization/beta:0',\n",
       " 'mobilenet_encoder/conv_ds_13/depthwise/batch_normalization/moving_variance:0',\n",
       " 'mobilenet_encoder/conv_ds_9/pointwise/batch_normalization/beta:0',\n",
       " 'mobilenet_encoder/conv_ds_6/pointwise/batch_normalization/moving_variance:0',\n",
       " 'mobilenet_encoder/conv_ds_2/pointwise/batch_normalization/gamma:0',\n",
       " 'mobilenet_encoder/conv_ds_3/depthwise/batch_normalization/gamma:0',\n",
       " 'mobilenet_encoder/conv_ds_9/pointwise/batch_normalization/moving_variance:0',\n",
       " 'mobilenet_encoder/conv_ds_3/pointwise/weights:0',\n",
       " 'mobilenet_encoder/conv_ds_9/depthwise/weights:0',\n",
       " 'mobilenet_encoder/conv_ds_5/depthwise/batch_normalization/gamma:0',\n",
       " 'mobilenet_encoder/conv_ds_11/depthwise/batch_normalization/beta:0',\n",
       " 'mobilenet_encoder/conv_ds_8/pointwise/batch_normalization/moving_mean:0',\n",
       " 'mobilenet_encoder/conv_ds_4/depthwise/batch_normalization/moving_mean:0',\n",
       " 'mobilenet_encoder/conv_ds_13/depthwise/batch_normalization/beta:0',\n",
       " 'mobilenet_encoder/conv_ds_6/depthwise/batch_normalization/moving_variance:0',\n",
       " 'mobilenet_encoder/conv_ds_2/pointwise/batch_normalization/moving_variance:0',\n",
       " 'mobilenet_encoder/conv_ds_8/pointwise/batch_normalization/gamma:0',\n",
       " 'mobilenet_encoder/conv_ds_10/depthwise/batch_normalization/beta:0',\n",
       " 'mobilenet_encoder/conv_ds_11/pointwise/weights:0',\n",
       " 'mobilenet_encoder/conv_1/batch_normalization/moving_mean:0',\n",
       " 'mobilenet_encoder/conv_ds_7/depthwise/batch_normalization/moving_variance:0',\n",
       " 'mobilenet_encoder/conv_ds_13/depthwise/weights:0',\n",
       " 'mobilenet_encoder/conv_ds_11/depthwise/batch_normalization/moving_mean:0',\n",
       " 'mobilenet_encoder/conv_ds_4/pointwise/batch_normalization/gamma:0',\n",
       " 'mobilenet_encoder/conv_ds_2/pointwise/batch_normalization/moving_mean:0',\n",
       " 'mobilenet_encoder/conv_ds_12/pointwise/batch_normalization/moving_mean:0',\n",
       " 'mobilenet_encoder/conv_ds_4/pointwise/batch_normalization/moving_variance:0',\n",
       " 'mobilenet_encoder/conv_ds_8/pointwise/batch_normalization/beta:0',\n",
       " 'mobilenet_encoder/conv_ds_7/depthwise/batch_normalization/gamma:0',\n",
       " 'mobilenet_encoder/conv_ds_7/depthwise/batch_normalization/beta:0',\n",
       " 'mobilenet_encoder/conv_ds_9/pointwise/weights:0',\n",
       " 'mobilenet_encoder/conv_ds_11/pointwise/batch_normalization/beta:0',\n",
       " 'mobilenet_encoder/conv_ds_12/depthwise/weights:0',\n",
       " 'mobilenet_encoder/conv_ds_4/pointwise/batch_normalization/moving_mean:0',\n",
       " 'mobilenet_encoder/conv_ds_6/depthwise/batch_normalization/moving_mean:0',\n",
       " 'mobilenet_encoder/fc/biases:0',\n",
       " 'mobilenet_encoder/conv_ds_3/depthwise/weights:0',\n",
       " 'mobilenet_encoder/conv_ds_8/depthwise/batch_normalization/moving_variance:0',\n",
       " 'mobilenet_encoder/conv_ds_13/depthwise/batch_normalization/gamma:0',\n",
       " 'mobilenet_encoder/conv_ds_2/depthwise/batch_normalization/beta:0',\n",
       " 'mobilenet_encoder/conv_ds_2/depthwise/batch_normalization/moving_mean:0',\n",
       " 'mobilenet_encoder/conv_ds_6/pointwise/batch_normalization/gamma:0',\n",
       " 'mobilenet_encoder/conv_ds_10/depthwise/batch_normalization/moving_mean:0',\n",
       " 'mobilenet_encoder/conv_ds_5/depthwise/batch_normalization/beta:0',\n",
       " 'mobilenet_encoder/conv_ds_11/pointwise/batch_normalization/moving_variance:0',\n",
       " 'mobilenet_encoder/conv_ds_12/pointwise/batch_normalization/beta:0',\n",
       " 'mobilenet_encoder/conv_ds_12/depthwise/batch_normalization/moving_variance:0',\n",
       " 'mobilenet_encoder/conv_ds_14/pointwise/batch_normalization/beta:0',\n",
       " 'mobilenet_encoder/conv_ds_6/pointwise/batch_normalization/moving_mean:0',\n",
       " 'mobilenet_encoder/conv_ds_5/pointwise/batch_normalization/moving_variance:0',\n",
       " 'mobilenet_encoder/conv_ds_6/pointwise/weights:0',\n",
       " 'mobilenet_encoder/conv_ds_8/depthwise/weights:0',\n",
       " 'mobilenet_encoder/conv_ds_12/pointwise/batch_normalization/gamma:0',\n",
       " 'mobilenet_encoder/conv_ds_14/pointwise/batch_normalization/moving_mean:0',\n",
       " 'mobilenet_encoder/conv_ds_10/depthwise/batch_normalization/gamma:0',\n",
       " 'mobilenet_encoder/conv_ds_9/depthwise/batch_normalization/beta:0',\n",
       " 'mobilenet_encoder/conv_ds_6/depthwise/batch_normalization/beta:0',\n",
       " 'mobilenet_encoder/conv_ds_10/pointwise/batch_normalization/moving_variance:0',\n",
       " 'mobilenet_encoder/conv_ds_13/pointwise/batch_normalization/moving_mean:0',\n",
       " 'mobilenet_encoder/conv_ds_14/pointwise/batch_normalization/gamma:0',\n",
       " 'mobilenet_encoder/conv_ds_3/pointwise/batch_normalization/gamma:0',\n",
       " 'mobilenet_encoder/conv_ds_2/pointwise/weights:0',\n",
       " 'mobilenet_encoder/conv_1/batch_normalization/gamma:0',\n",
       " 'mobilenet_encoder/conv_ds_7/pointwise/batch_normalization/moving_variance:0',\n",
       " 'mobilenet_encoder/conv_ds_7/pointwise/batch_normalization/beta:0',\n",
       " 'mobilenet_encoder/conv_ds_10/pointwise/batch_normalization/moving_mean:0',\n",
       " 'mobilenet_encoder/conv_ds_7/depthwise/batch_normalization/moving_mean:0',\n",
       " 'mobilenet_encoder/conv_ds_5/pointwise/batch_normalization/moving_mean:0',\n",
       " 'mobilenet_encoder/conv_ds_2/depthwise/batch_normalization/moving_variance:0',\n",
       " 'mobilenet_encoder/conv_ds_4/pointwise/weights:0',\n",
       " 'mobilenet_encoder/conv_ds_7/pointwise/batch_normalization/moving_mean:0',\n",
       " 'mobilenet_encoder/conv_ds_3/pointwise/batch_normalization/moving_mean:0',\n",
       " 'mobilenet_encoder/conv_ds_14/depthwise/batch_normalization/beta:0',\n",
       " 'mobilenet_encoder/conv_ds_5/depthwise/batch_normalization/moving_mean:0',\n",
       " 'mobilenet_encoder/conv_ds_12/pointwise/batch_normalization/moving_variance:0',\n",
       " 'mobilenet_encoder/conv_ds_11/pointwise/batch_normalization/moving_mean:0',\n",
       " 'mobilenet_encoder/conv_ds_12/depthwise/batch_normalization/beta:0',\n",
       " 'mobilenet_encoder/conv_ds_10/pointwise/batch_normalization/gamma:0',\n",
       " 'mobilenet_encoder/conv_ds_3/pointwise/batch_normalization/beta:0',\n",
       " 'mobilenet_encoder/conv_ds_12/pointwise/weights:0',\n",
       " 'mobilenet_encoder/conv_ds_14/depthwise/batch_normalization/gamma:0',\n",
       " 'mobilenet_encoder/conv_ds_13/pointwise/batch_normalization/moving_variance:0',\n",
       " 'mobilenet_encoder/conv_ds_12/depthwise/batch_normalization/gamma:0',\n",
       " 'mobilenet_encoder/conv_ds_7/pointwise/weights:0',\n",
       " 'mobilenet_encoder/conv_ds_14/pointwise/weights:0',\n",
       " 'mobilenet_encoder/conv_ds_9/depthwise/batch_normalization/moving_variance:0',\n",
       " 'mobilenet_encoder/conv_ds_4/depthwise/batch_normalization/gamma:0',\n",
       " 'mobilenet_encoder/conv_ds_6/depthwise/batch_normalization/gamma:0',\n",
       " 'mobilenet_encoder/conv_ds_8/depthwise/batch_normalization/gamma:0',\n",
       " 'mobilenet_encoder/conv_ds_8/depthwise/batch_normalization/moving_mean:0',\n",
       " 'mobilenet_encoder/conv_ds_2/depthwise/batch_normalization/gamma:0',\n",
       " 'mobilenet_encoder/conv_ds_14/depthwise/batch_normalization/moving_variance:0',\n",
       " 'mobilenet_encoder/conv_ds_11/depthwise/weights:0',\n",
       " 'mobilenet_encoder/conv_ds_8/pointwise/weights:0',\n",
       " 'mobilenet_encoder/conv_1/batch_normalization/beta:0',\n",
       " 'mobilenet_encoder/fc/weights:0',\n",
       " 'mobilenet_encoder/conv_ds_13/pointwise/batch_normalization/beta:0',\n",
       " 'mobilenet_encoder/conv_ds_11/depthwise/batch_normalization/gamma:0',\n",
       " 'mobilenet_encoder/conv_ds_13/depthwise/batch_normalization/moving_mean:0',\n",
       " 'mobilenet_encoder/conv_ds_14/pointwise/batch_normalization/moving_variance:0',\n",
       " 'mobilenet_encoder/conv_ds_8/pointwise/batch_normalization/moving_variance:0',\n",
       " 'mobilenet_encoder/conv_ds_3/pointwise/batch_normalization/moving_variance:0',\n",
       " 'mobilenet_encoder/conv_ds_10/pointwise/batch_normalization/beta:0',\n",
       " 'mobilenet_encoder/conv_ds_3/depthwise/batch_normalization/beta:0',\n",
       " 'mobilenet_encoder/conv_ds_3/depthwise/batch_normalization/moving_mean:0',\n",
       " 'mobilenet_encoder/conv_ds_9/pointwise/batch_normalization/moving_mean:0',\n",
       " 'mobilenet_encoder/conv_ds_9/depthwise/batch_normalization/moving_mean:0',\n",
       " 'mobilenet_encoder/conv_ds_13/pointwise/batch_normalization/gamma:0',\n",
       " 'mobilenet_encoder/conv_ds_5/pointwise/batch_normalization/beta:0',\n",
       " 'mobilenet_encoder/conv_ds_4/depthwise/batch_normalization/beta:0',\n",
       " 'mobilenet_encoder/conv_ds_8/depthwise/batch_normalization/beta:0',\n",
       " 'mobilenet_encoder/conv_ds_12/depthwise/batch_normalization/moving_mean:0',\n",
       " 'mobilenet_encoder/conv_ds_5/depthwise/weights:0',\n",
       " 'mobilenet_encoder/conv_ds_14/depthwise/batch_normalization/moving_mean:0',\n",
       " 'mobilenet_encoder/conv_ds_7/pointwise/batch_normalization/gamma:0',\n",
       " 'mobilenet_encoder/conv_ds_11/pointwise/batch_normalization/gamma:0',\n",
       " 'mobilenet_encoder/conv_ds_9/depthwise/batch_normalization/gamma:0',\n",
       " 'mobilenet_encoder/conv_ds_3/depthwise/batch_normalization/moving_variance:0',\n",
       " 'mobilenet_encoder/conv_ds_4/pointwise/batch_normalization/beta:0',\n",
       " 'mobilenet_encoder/conv_ds_7/depthwise/weights:0']"
      ]
     },
     "execution_count": 3,
     "metadata": {},
     "output_type": "execute_result"
    }
   ],
   "source": [
    "list(data.keys())"
   ]
  },
  {
   "cell_type": "code",
   "execution_count": 5,
   "metadata": {},
   "outputs": [
    {
     "name": "stdout",
     "output_type": "stream",
     "text": [
      "(3, 3, 32, 1)\n",
      "(1, 1, 32, 64)\n",
      "(3, 3, 512, 1)\n",
      "(1, 1, 512, 1024)\n"
     ]
    }
   ],
   "source": [
    "# Pretrained on TinyImageNet\n",
    "# Weights for conv dw layer 1 - 3 x 3 x 32 dw + 1 x 1 x 32 x 64\n",
    "print(data['mobilenet_encoder/conv_ds_2/depthwise/weights:0'].shape)\n",
    "print(data['mobilenet_encoder/conv_ds_2/pointwise/weights:0'].shape)\n",
    "\n",
    "# Weights for conv dw layer 13 - 3 x 3 x 512 dw + 1 x 1 x 512 x 1024\n",
    "print(data['mobilenet_encoder/conv_ds_13/depthwise/weights:0'].shape)\n",
    "print(data['mobilenet_encoder/conv_ds_13/pointwise/weights:0'].shape)"
   ]
  },
  {
   "cell_type": "code",
   "execution_count": 6,
   "metadata": {},
   "outputs": [
    {
     "name": "stdout",
     "output_type": "stream",
     "text": [
      "[[-0.7965151 -2.9345374  0.8257375]\n",
      " [ 1.6487117 12.158534  -3.467292 ]\n",
      " [-2.9674451  1.5625546 -1.5359287]]\n"
     ]
    }
   ],
   "source": [
    "# Weights for conv dw layer 1 - 3 x 3 x 32 dw + 1 x 1 x 32 x 64\n",
    "print(data['mobilenet_encoder/conv_ds_2/depthwise/weights:0'][:,:,1,0])\n",
    "# print(data['mobilenet_encoder/conv_ds_2/pointwise/weights:0'])\n",
    "\n",
    "# Weights for conv dw layer 13 - 3 x 3 x 512 dw + 1 x 1 x 512 x 1024\n",
    "# print(data['mobilenet_encoder/conv_ds_13/depthwise/weights:0'])\n",
    "# print(data['mobilenet_encoder/conv_ds_13/pointwise/weights:0'])"
   ]
  },
  {
   "cell_type": "code",
   "execution_count": 17,
   "metadata": {},
   "outputs": [],
   "source": [
    "from utils import parse_args, create_experiment_dirs, calculate_flops\n",
    "from model import MobileNet\n",
    "from train import Train\n",
    "from data_loader import DataLoader\n",
    "from summarizer import Summarizer\n",
    "import tensorflow as tf\n",
    "from easydict import EasyDict as edict\n",
    "import json\n",
    "import numpy as np"
   ]
  },
  {
   "cell_type": "code",
   "execution_count": 18,
   "metadata": {},
   "outputs": [],
   "source": [
    "def main():\n",
    "    with open('test.json', 'r') as config_file:\n",
    "        config_args_dict = json.load(config_file)\n",
    "    config_args = edict(config_args_dict)\n",
    "\n",
    "    # Create the experiment directories\n",
    "    _, config_args.summary_dir, config_args.checkpoint_dir = create_experiment_dirs(config_args.experiment_dir)\n",
    "\n",
    "    # Reset the default Tensorflow graph\n",
    "    tf.reset_default_graph()\n",
    "\n",
    "    # Tensorflow specific configuration\n",
    "    config = tf.ConfigProto(allow_soft_placement=True)\n",
    "    config.gpu_options.allow_growth = True\n",
    "    sess = tf.Session(config=config)\n",
    "\n",
    "    # Data loading\n",
    "    data = DataLoader(config_args.batch_size, config_args.shuffle)\n",
    "    print(\"Loading Data...\")\n",
    "    config_args.img_height, config_args.img_width, config_args.num_channels, \\\n",
    "    config_args.train_data_size, config_args.test_data_size = data.load_data()\n",
    "    print(\"Data loaded\\n\\n\")\n",
    "\n",
    "    # Model creation\n",
    "    print(\"Building the model...\")\n",
    "    model = MobileNet(config_args)\n",
    "    print(\"Model is built successfully\\n\\n\")\n",
    "\n",
    "    # Summarizer creation\n",
    "    summarizer = Summarizer(sess, config_args.summary_dir)\n",
    "    # Train class\n",
    "    trainer = Train(sess, model, data, summarizer)\n",
    "\n",
    "    if config_args.to_train:\n",
    "        try:\n",
    "            print(\"Training...\")\n",
    "            trainer.train()\n",
    "            print(\"Training Finished\\n\\n\")\n",
    "        except KeyboardInterrupt:\n",
    "            trainer.save_model()\n",
    "\n",
    "    if config_args.to_test:\n",
    "        print(\"Final test!\")\n",
    "        nodes = trainer.test('val')\n",
    "        print(\"Testing Finished\\n\\n\")\n",
    "        \n",
    "    return nodes "
   ]
  },
  {
   "cell_type": "code",
   "execution_count": 19,
   "metadata": {},
   "outputs": [
    {
     "name": "stdout",
     "output_type": "stream",
     "text": [
      "Experiment directories created!\n",
      "Loading Data...\n",
      "Data loaded\n",
      "\n",
      "\n",
      "Building the model...\n",
      "Model is built successfully\n",
      "\n",
      "\n",
      "Initializing the model...\n",
      "Model initialized successfully\n",
      "\n",
      "\n",
      "Loading ImageNet pretrained weights...\n"
     ]
    },
    {
     "name": "stderr",
     "output_type": "stream",
     "text": [
      "\r",
      "Testing:   0%|                                                                                   | 0/4 [00:00<?, ?it/s]"
     ]
    },
    {
     "name": "stdout",
     "output_type": "stream",
     "text": [
      "ImageNet Pretrained Weights Loaded Initially\n",
      "\n",
      "\n",
      "No checkpoints available!\n",
      "\n",
      "\n",
      "Final test!\n"
     ]
    },
    {
     "name": "stderr",
     "output_type": "stream",
     "text": [
      "Testing:  75%|████████████████████████████████████████████████████████▎                  | 3/4 [00:00<00:00,  3.06it/s]\n"
     ]
    },
    {
     "name": "stdout",
     "output_type": "stream",
     "text": [
      "Test results | test_loss: 2.0253577 - test_acc: 1.0\n",
      "Testing Finished\n",
      "\n",
      "\n"
     ]
    }
   ],
   "source": [
    "nodes = main()"
   ]
  },
  {
   "cell_type": "code",
   "execution_count": 42,
   "metadata": {},
   "outputs": [
    {
     "data": {
      "text/plain": [
       "['mobilenet_encoder/conv_1/Relu6:0',\n",
       " 'mobilenet_encoder/conv_ds_2/depthwise/Relu6:0',\n",
       " 'mobilenet_encoder/conv_ds_2/pointwise/Relu6:0',\n",
       " 'mobilenet_encoder/conv_ds_3/depthwise/Relu6:0',\n",
       " 'mobilenet_encoder/conv_ds_3/pointwise/Relu6:0',\n",
       " 'mobilenet_encoder/conv_ds_4/depthwise/Relu6:0',\n",
       " 'mobilenet_encoder/conv_ds_4/pointwise/Relu6:0',\n",
       " 'mobilenet_encoder/conv_ds_5/depthwise/Relu6:0',\n",
       " 'mobilenet_encoder/conv_ds_5/pointwise/Relu6:0',\n",
       " 'mobilenet_encoder/conv_ds_6/depthwise/Relu6:0',\n",
       " 'mobilenet_encoder/conv_ds_6/pointwise/Relu6:0',\n",
       " 'mobilenet_encoder/conv_ds_7/depthwise/Relu6:0',\n",
       " 'mobilenet_encoder/conv_ds_7/pointwise/Relu6:0',\n",
       " 'mobilenet_encoder/conv_ds_8/depthwise/Relu6:0',\n",
       " 'mobilenet_encoder/conv_ds_8/pointwise/Relu6:0',\n",
       " 'mobilenet_encoder/conv_ds_9/depthwise/Relu6:0',\n",
       " 'mobilenet_encoder/conv_ds_9/pointwise/Relu6:0',\n",
       " 'mobilenet_encoder/conv_ds_10/depthwise/Relu6:0',\n",
       " 'mobilenet_encoder/conv_ds_10/pointwise/Relu6:0',\n",
       " 'mobilenet_encoder/conv_ds_11/depthwise/Relu6:0',\n",
       " 'mobilenet_encoder/conv_ds_11/pointwise/Relu6:0',\n",
       " 'mobilenet_encoder/conv_ds_12/depthwise/Relu6:0',\n",
       " 'mobilenet_encoder/conv_ds_12/pointwise/Relu6:0',\n",
       " 'mobilenet_encoder/conv_ds_13/depthwise/Relu6:0',\n",
       " 'mobilenet_encoder/conv_ds_13/pointwise/Relu6:0',\n",
       " 'mobilenet_encoder/conv_ds_14/depthwise/Relu6:0',\n",
       " 'mobilenet_encoder/conv_ds_14/pointwise/Relu6:0',\n",
       " 'mobilenet_encoder/avg_pooling:0',\n",
       " 'mobilenet_encoder/cond/Merge:0',\n",
       " 'mobilenet_encoder/Reshape:0']"
      ]
     },
     "execution_count": 42,
     "metadata": {},
     "output_type": "execute_result"
    }
   ],
   "source": [
    "list(nodes.keys())"
   ]
  },
  {
   "cell_type": "code",
   "execution_count": 22,
   "metadata": {},
   "outputs": [
    {
     "data": {
      "text/plain": [
       "(1, 112, 112, 64)"
      ]
     },
     "execution_count": 22,
     "metadata": {},
     "output_type": "execute_result"
    }
   ],
   "source": [
    "y = nodes['mobilenet_encoder/conv_ds_2/pointwise/Relu6:0'][0][:,:,0]"
   ]
  },
  {
   "cell_type": "code",
   "execution_count": 76,
   "metadata": {},
   "outputs": [],
   "source": [
    "for i in range(1,64):\n",
    "    y = np.concatenate((y, nodes['mobilenet_encoder/conv_ds_2/pointwise/Relu6:0'][0][:,:,i]), axis=None)"
   ]
  },
  {
   "cell_type": "code",
   "execution_count": 78,
   "metadata": {},
   "outputs": [],
   "source": [
    "np.savetxt('activations_conv_pw32.csv', y, delimiter=',')"
   ]
  },
  {
   "cell_type": "code",
   "execution_count": 31,
   "metadata": {},
   "outputs": [],
   "source": [
    "x = data['mobilenet_encoder/conv_ds_2/pointwise/weights:0'][:,:,:,0][0][0]"
   ]
  },
  {
   "cell_type": "code",
   "execution_count": 32,
   "metadata": {},
   "outputs": [],
   "source": [
    "for i in range(1,64):\n",
    "    x = np.concatenate((x, data['mobilenet_encoder/conv_ds_2/pointwise/weights:0'][:,:,:,i][0][0]), axis=None)"
   ]
  },
  {
   "cell_type": "code",
   "execution_count": 35,
   "metadata": {},
   "outputs": [],
   "source": [
    "np.savetxt('weights_conv_pw32.csv', x, delimiter=',')"
   ]
  },
  {
   "cell_type": "code",
   "execution_count": 22,
   "metadata": {},
   "outputs": [
    {
     "data": {
      "text/plain": [
       "0.0"
      ]
     },
     "execution_count": 22,
     "metadata": {},
     "output_type": "execute_result"
    }
   ],
   "source": [
    "z = nodes['mobilenet_encoder/conv_ds_2/depthwise/Relu6:0'][0][:,:,0]\n",
    "z.max()"
   ]
  },
  {
   "cell_type": "code",
   "execution_count": 23,
   "metadata": {},
   "outputs": [
    {
     "data": {
      "text/plain": [
       "(401408,)"
      ]
     },
     "execution_count": 23,
     "metadata": {},
     "output_type": "execute_result"
    }
   ],
   "source": [
    "for i in range(1,32):\n",
    "    z = np.concatenate((z, nodes['mobilenet_encoder/conv_ds_2/depthwise/Relu6:0'][0][:,:,i]), axis=None)\n",
    "z.shape"
   ]
  },
  {
   "cell_type": "code",
   "execution_count": 24,
   "metadata": {},
   "outputs": [],
   "source": [
    "np.savetxt('activations_conv_dw32.csv', z, delimiter=',')"
   ]
  },
  {
   "cell_type": "code",
   "execution_count": 25,
   "metadata": {},
   "outputs": [
    {
     "data": {
      "text/plain": [
       "array([0., 0., 0., ..., 0., 0., 0.], dtype=float32)"
      ]
     },
     "execution_count": 25,
     "metadata": {},
     "output_type": "execute_result"
    }
   ],
   "source": []
  },
  {
   "cell_type": "code",
   "execution_count": 13,
   "metadata": {},
   "outputs": [],
   "source": [
    "x = data['mobilenet_encoder/conv_ds_2/depthwise/weights:0'][:,:,0,0]\n",
    "for i in range(1,32):\n",
    "    x = np.concatenate((x, data['mobilenet_encoder/conv_ds_2/depthwise/weights:0'][:,:,i,0]), axis=None)"
   ]
  },
  {
   "cell_type": "code",
   "execution_count": 14,
   "metadata": {},
   "outputs": [],
   "source": [
    "np.savetxt('weights_conv_dw32.csv', x, delimiter=',')"
   ]
  },
  {
   "cell_type": "code",
   "execution_count": 25,
   "metadata": {},
   "outputs": [
    {
     "data": {
      "text/plain": [
       "(401408,)"
      ]
     },
     "execution_count": 25,
     "metadata": {},
     "output_type": "execute_result"
    }
   ],
   "source": [
    "y = nodes['mobilenet_encoder/conv_1/Relu6:0'][0][:,:,0]\n",
    "for i in range(1,32):\n",
    "    y = np.concatenate((y, nodes['mobilenet_encoder/conv_1/Relu6:0'][0][:,:,i]), axis=None)\n",
    "y.shape"
   ]
  },
  {
   "cell_type": "code",
   "execution_count": 26,
   "metadata": {},
   "outputs": [],
   "source": [
    "np.savetxt('activations_conv1.csv', y, delimiter=',')"
   ]
  },
  {
   "cell_type": "code",
   "execution_count": 31,
   "metadata": {},
   "outputs": [
    {
     "name": "stdout",
     "output_type": "stream",
     "text": [
      "(112, 112, 32)\n",
      "(114, 114, 32)\n"
     ]
    }
   ],
   "source": [
    "unpad_data = nodes['mobilenet_encoder/conv_1/Relu6:0'][0]\n",
    "print(unpad_data.shape)\n",
    "pad_data = np.zeros((114, 114, 32))\n",
    "x_offset = 1\n",
    "y_offset = 1\n",
    "pad_data[x_offset:unpad_data.shape[0]+x_offset,y_offset:unpad_data.shape[1]+y_offset,] = unpad_data\n",
    "print(pad_data.shape)"
   ]
  },
  {
   "cell_type": "code",
   "execution_count": 36,
   "metadata": {},
   "outputs": [
    {
     "data": {
      "text/plain": [
       "(415872,)"
      ]
     },
     "execution_count": 36,
     "metadata": {},
     "output_type": "execute_result"
    }
   ],
   "source": [
    "y = pad_data[:,:,0]\n",
    "for i in range(1,32):\n",
    "    y = np.concatenate((y, pad_data[:,:,i]), axis=None)\n",
    "y.shape"
   ]
  },
  {
   "cell_type": "code",
   "execution_count": 37,
   "metadata": {},
   "outputs": [],
   "source": [
    "np.savetxt('activations_conv1_pad.csv', y, delimiter=',')"
   ]
  },
  {
   "cell_type": "code",
   "execution_count": 1,
   "metadata": {},
   "outputs": [],
   "source": [
    "import numpy as np\n",
    "standard_conv_dummy = np.random.uniform(low=-1, high=2, size=(114,114,32))"
   ]
  },
  {
   "cell_type": "code",
   "execution_count": 3,
   "metadata": {},
   "outputs": [
    {
     "data": {
      "text/plain": [
       "(415872,)"
      ]
     },
     "execution_count": 3,
     "metadata": {},
     "output_type": "execute_result"
    }
   ],
   "source": [
    "y = standard_conv_dummy[:,:,0]\n",
    "for i in range(1,32):\n",
    "    y = np.concatenate((y, standard_conv_dummy[:,:,i]), axis=None)\n",
    "y.shape"
   ]
  },
  {
   "cell_type": "code",
   "execution_count": 4,
   "metadata": {},
   "outputs": [],
   "source": [
    "np.savetxt('standard_conv_dummy.csv', y, delimiter=',')"
   ]
  },
  {
   "cell_type": "code",
   "execution_count": 6,
   "metadata": {},
   "outputs": [
    {
     "data": {
      "text/plain": [
       "(18432,)"
      ]
     },
     "execution_count": 6,
     "metadata": {},
     "output_type": "execute_result"
    }
   ],
   "source": [
    "standard_dummy_wgt = np.random.uniform(low=-1, high=2, size=(3,3,32,64))\n",
    "\n",
    "y = standard_dummy_wgt[:,:,:,0]\n",
    "for i in range(1,64):\n",
    "    y = np.concatenate((y, standard_dummy_wgt[:,:,:,i]), axis=None)\n",
    "y.shape"
   ]
  },
  {
   "cell_type": "code",
   "execution_count": 7,
   "metadata": {},
   "outputs": [],
   "source": [
    "np.savetxt('standard_conv_dummy_weights.csv', y, delimiter=',')"
   ]
  },
  {
   "cell_type": "code",
   "execution_count": 9,
   "metadata": {},
   "outputs": [
    {
     "data": {
      "text/plain": [
       "(65536,)"
      ]
     },
     "execution_count": 9,
     "metadata": {},
     "output_type": "execute_result"
    }
   ],
   "source": [
    "import numpy as np\n",
    "x = data['mobilenet_encoder/conv_ds_6/pointwise/weights:0'][:,:,:,0][0][0]\n",
    "for i in range(1,256):\n",
    "    x = np.concatenate((x, data['mobilenet_encoder/conv_ds_6/pointwise/weights:0'][:,:,:,i][0][0]), axis=None)\n",
    "x.shape"
   ]
  },
  {
   "cell_type": "code",
   "execution_count": 10,
   "metadata": {},
   "outputs": [],
   "source": [
    "np.savetxt('weights_conv_pw256.csv', x, delimiter=',')"
   ]
  },
  {
   "cell_type": "code",
   "execution_count": 24,
   "metadata": {},
   "outputs": [
    {
     "data": {
      "text/plain": [
       "(2304,)"
      ]
     },
     "execution_count": 24,
     "metadata": {},
     "output_type": "execute_result"
    }
   ],
   "source": [
    "x = data['mobilenet_encoder/conv_ds_6/depthwise/weights:0'][:,:,0,0]\n",
    "for i in range(1,256):\n",
    "    x = np.concatenate((x, data['mobilenet_encoder/conv_ds_6/depthwise/weights:0'][:,:,i,0]), axis=None)\n",
    "x.shape"
   ]
  },
  {
   "cell_type": "code",
   "execution_count": 25,
   "metadata": {},
   "outputs": [],
   "source": [
    "np.savetxt('weights_conv_dw256.csv', x, delimiter=',')"
   ]
  },
  {
   "cell_type": "code",
   "execution_count": 39,
   "metadata": {},
   "outputs": [
    {
     "data": {
      "text/plain": [
       "(200704,)"
      ]
     },
     "execution_count": 39,
     "metadata": {},
     "output_type": "execute_result"
    }
   ],
   "source": [
    "y = nodes['mobilenet_encoder/conv_ds_6/depthwise/Relu6:0'][0][:,:,0]\n",
    "for i in range(1,256):\n",
    "    y = np.concatenate((y, nodes['mobilenet_encoder/conv_ds_6/pointwise/Relu6:0'][0][:,:,i]), axis=None)\n",
    "y.shape"
   ]
  },
  {
   "cell_type": "code",
   "execution_count": 40,
   "metadata": {},
   "outputs": [],
   "source": [
    "np.savetxt('activations_conv_dw256.csv', y, delimiter=',')"
   ]
  },
  {
   "cell_type": "code",
   "execution_count": 41,
   "metadata": {},
   "outputs": [
    {
     "name": "stdout",
     "output_type": "stream",
     "text": [
      "(28, 28, 256)\n",
      "(30, 30, 256)\n"
     ]
    }
   ],
   "source": [
    "unpad_data = nodes['mobilenet_encoder/conv_ds_5/pointwise/Relu6:0'][0]\n",
    "print(unpad_data.shape)\n",
    "pad_data = np.zeros((30, 30, 256))\n",
    "x_offset = 1\n",
    "y_offset = 1\n",
    "pad_data[x_offset:unpad_data.shape[0]+x_offset,y_offset:unpad_data.shape[1]+y_offset,] = unpad_data\n",
    "print(pad_data.shape)"
   ]
  },
  {
   "cell_type": "code",
   "execution_count": 42,
   "metadata": {},
   "outputs": [
    {
     "data": {
      "text/plain": [
       "(230400,)"
      ]
     },
     "execution_count": 42,
     "metadata": {},
     "output_type": "execute_result"
    }
   ],
   "source": [
    "y = pad_data[:,:,0]\n",
    "for i in range(1,256):\n",
    "    y = np.concatenate((y, pad_data[:,:,i]), axis=None)\n",
    "y.shape"
   ]
  },
  {
   "cell_type": "code",
   "execution_count": 43,
   "metadata": {},
   "outputs": [],
   "source": [
    "np.savetxt('activations_conv256_pad.csv', y, delimiter=',')"
   ]
  }
 ],
 "metadata": {
  "kernelspec": {
   "display_name": "Python 3",
   "language": "python",
   "name": "python3"
  },
  "language_info": {
   "codemirror_mode": {
    "name": "ipython",
    "version": 3
   },
   "file_extension": ".py",
   "mimetype": "text/x-python",
   "name": "python",
   "nbconvert_exporter": "python",
   "pygments_lexer": "ipython3",
   "version": "3.6.2"
  }
 },
 "nbformat": 4,
 "nbformat_minor": 2
}
